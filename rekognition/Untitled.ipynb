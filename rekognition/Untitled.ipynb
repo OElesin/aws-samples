{
 "cells": [
  {
   "cell_type": "markdown",
   "metadata": {},
   "source": [
    "<h1><center>AI Powered Video Assistant Referee with Amazon Rekognition Custom Labels</center></h1>"
   ]
  },
  {
   "cell_type": "code",
   "execution_count": 4,
   "metadata": {},
   "outputs": [
    {
     "name": "stdout",
     "output_type": "stream",
     "text": [
      "Requirement already up-to-date: boto3 in /Users/olalekanelesin/workspace/aws-samples/venv/lib/python3.8/site-packages (1.15.18)\n",
      "Requirement already satisfied, skipping upgrade: jmespath<1.0.0,>=0.7.1 in /Users/olalekanelesin/workspace/aws-samples/venv/lib/python3.8/site-packages (from boto3) (0.10.0)\n",
      "Requirement already satisfied, skipping upgrade: s3transfer<0.4.0,>=0.3.0 in /Users/olalekanelesin/workspace/aws-samples/venv/lib/python3.8/site-packages (from boto3) (0.3.3)\n",
      "Requirement already satisfied, skipping upgrade: botocore<1.19.0,>=1.18.18 in /Users/olalekanelesin/workspace/aws-samples/venv/lib/python3.8/site-packages (from boto3) (1.18.18)\n",
      "Requirement already satisfied, skipping upgrade: urllib3<1.26,>=1.20; python_version != \"3.4\" in /Users/olalekanelesin/workspace/aws-samples/venv/lib/python3.8/site-packages (from botocore<1.19.0,>=1.18.18->boto3) (1.25.10)\n",
      "Requirement already satisfied, skipping upgrade: python-dateutil<3.0.0,>=2.1 in /Users/olalekanelesin/workspace/aws-samples/venv/lib/python3.8/site-packages (from botocore<1.19.0,>=1.18.18->boto3) (2.8.1)\n",
      "Requirement already satisfied, skipping upgrade: six>=1.5 in /Users/olalekanelesin/workspace/aws-samples/venv/lib/python3.8/site-packages (from python-dateutil<3.0.0,>=2.1->botocore<1.19.0,>=1.18.18->boto3) (1.15.0)\n"
     ]
    }
   ],
   "source": [
    "!pip install --upgrade boto3"
   ]
  },
  {
   "cell_type": "code",
   "execution_count": 1,
   "metadata": {},
   "outputs": [],
   "source": [
    "import boto3"
   ]
  },
  {
   "cell_type": "code",
   "execution_count": 2,
   "metadata": {},
   "outputs": [],
   "source": [
    "rekognition = boto3.client('rekognition')"
   ]
  },
  {
   "cell_type": "code",
   "execution_count": 3,
   "metadata": {},
   "outputs": [
    {
     "ename": "AttributeError",
     "evalue": "'Rekognition' object has no attribute 'start_project_version'",
     "output_type": "error",
     "traceback": [
      "\u001b[0;31m---------------------------------------------------------------------------\u001b[0m",
      "\u001b[0;31mAttributeError\u001b[0m                            Traceback (most recent call last)",
      "\u001b[0;32m<ipython-input-3-22be22899395>\u001b[0m in \u001b[0;36m<module>\u001b[0;34m()\u001b[0m\n\u001b[0;32m----> 1\u001b[0;31m \u001b[0mrekognition\u001b[0m\u001b[0;34m.\u001b[0m\u001b[0mstart_project_version\u001b[0m\u001b[0;34m\u001b[0m\u001b[0m\n\u001b[0m",
      "\u001b[0;32m/Users/olalekanelesin/Library/Python/2.7/lib/python/site-packages/botocore/client.pyc\u001b[0m in \u001b[0;36m__getattr__\u001b[0;34m(self, item)\u001b[0m\n\u001b[1;32m    599\u001b[0m         raise AttributeError(\n\u001b[1;32m    600\u001b[0m             \"'%s' object has no attribute '%s'\" % (\n\u001b[0;32m--> 601\u001b[0;31m                 self.__class__.__name__, item)\n\u001b[0m\u001b[1;32m    602\u001b[0m         )\n\u001b[1;32m    603\u001b[0m \u001b[0;34m\u001b[0m\u001b[0m\n",
      "\u001b[0;31mAttributeError\u001b[0m: 'Rekognition' object has no attribute 'start_project_version'"
     ]
    }
   ],
   "source": [
    "rekognition.start_project_version"
   ]
  },
  {
   "cell_type": "code",
   "execution_count": null,
   "metadata": {},
   "outputs": [],
   "source": []
  }
 ],
 "metadata": {
  "kernelspec": {
   "display_name": "Python 3",
   "language": "python",
   "name": "python3"
  },
  "language_info": {
   "codemirror_mode": {
    "name": "ipython",
    "version": 2
   },
   "file_extension": ".py",
   "mimetype": "text/x-python",
   "name": "python",
   "nbconvert_exporter": "python",
   "pygments_lexer": "ipython2",
   "version": "2.7.16"
  }
 },
 "nbformat": 4,
 "nbformat_minor": 2
}
